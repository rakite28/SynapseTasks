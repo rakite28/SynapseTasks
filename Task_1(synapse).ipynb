{
 "cells": [
  {
   "cell_type": "markdown",
   "metadata": {
    "id": "xYqIGkar_XaC"
   },
   "source": [
    "# **Task 1**"
   ]
  },
  {
   "cell_type": "code",
   "execution_count": 17,
   "metadata": {
    "id": "jlt1F5q__TI4"
   },
   "outputs": [],
   "source": [
    "modern_family = ['CLaiRe_DunPhY', 'PHiL_dUnpHY', 'GLoRiA_PriTCheTt', 'CaMErOn_TuCKEr',\n",
    "'StELLa']"
   ]
  },
  {
   "cell_type": "code",
   "execution_count": 19,
   "metadata": {
    "colab": {
     "base_uri": "https://localhost:8080/"
    },
    "id": "LYypf7GL_huW",
    "outputId": "f2539115-d5e7-4cbd-d149-07d0bb1d8cdd"
   },
   "outputs": [
    {
     "data": {
      "text/plain": [
       "[0, 1, 2, 3, 4]"
      ]
     },
     "execution_count": 19,
     "metadata": {},
     "output_type": "execute_result"
    }
   ],
   "source": [
    "characters=[]\n",
    "indices=[]\n",
    "for i in enumerate(modern_family):\n",
    "    indices.append(i[0])\n",
    "    characters.append(i[1])\n",
    "   \n",
    "indices"
   ]
  },
  {
   "cell_type": "code",
   "execution_count": 20,
   "metadata": {
    "colab": {
     "base_uri": "https://localhost:8080/",
     "height": 36
    },
    "id": "RevFxgMaBsbq",
    "outputId": "69418af9-2497-4ee5-d4f5-d8da48afeb26"
   },
   "outputs": [
    {
     "data": {
      "text/plain": [
       "'CLaiRe_DunPhY'"
      ]
     },
     "execution_count": 20,
     "metadata": {},
     "output_type": "execute_result"
    }
   ],
   "source": [
    "characters[0]"
   ]
  },
  {
   "cell_type": "code",
   "execution_count": 21,
   "metadata": {
    "colab": {
     "base_uri": "https://localhost:8080/"
    },
    "id": "4_Vv20SSA6aH",
    "outputId": "86b9672d-a4ad-4d21-b2e0-4723e8bc3c38"
   },
   "outputs": [
    {
     "data": {
      "text/plain": [
       "['claire-dunphy',\n",
       " 'phil-dunphy',\n",
       " 'gloria-pritchett',\n",
       " 'cameron-tucker',\n",
       " 'stella']"
      ]
     },
     "execution_count": 21,
     "metadata": {},
     "output_type": "execute_result"
    }
   ],
   "source": [
    "for i in range(len(characters)):\n",
    "  characters[i]=characters[i].lower()\n",
    "  characters[i]=characters[i].replace('_','-')\n",
    "characters"
   ]
  },
  {
   "cell_type": "code",
   "execution_count": 15,
   "metadata": {
    "id": "t3V9DqWAGG8e"
   },
   "outputs": [],
   "source": [
    "\n",
    "temp = map(lambda s:len(s),characters)"
   ]
  },
  {
   "cell_type": "code",
   "execution_count": 7,
   "metadata": {
    "colab": {
     "base_uri": "https://localhost:8080/"
    },
    "id": "yJXZfYyLKIQz",
    "outputId": "1c74f546-d276-4144-8602-9ff831bf08f8"
   },
   "outputs": [
    {
     "name": "stdout",
     "output_type": "stream",
     "text": [
      "[(0, 13), (1, 11), (2, 16), (3, 14), (4, 6)]\n",
      "[(0, 13), (1, 11), (2, 16), (3, 14), (4, 6)]\n",
      "[13, 12, 18, 17, 10]\n"
     ]
    }
   ],
   "source": [
    "\n",
    "z=list(zip(indices,list(temp)))\n",
    "print(z)\n",
    "for i in range(len(indices)):\n",
    "  indices[i]=sum(z[i])\n",
    "print(list(z))\n",
    "print(indices)"
   ]
  },
  {
   "cell_type": "code",
   "execution_count": 8,
   "metadata": {
    "colab": {
     "base_uri": "https://localhost:8080/"
    },
    "id": "zjow6rjETKRi",
    "outputId": "3370bda2-1e0c-49f2-b610-0e834a135333"
   },
   "outputs": [
    {
     "data": {
      "text/plain": [
       "[18, 17, 13, 12, 10]"
      ]
     },
     "execution_count": 8,
     "metadata": {},
     "output_type": "execute_result"
    }
   ],
   "source": [
    "indices.sort(reverse=True)\n",
    "indices"
   ]
  },
  {
   "cell_type": "code",
   "execution_count": 9,
   "metadata": {
    "colab": {
     "base_uri": "https://localhost:8080/"
    },
    "id": "V5KRs9iaTXNd",
    "outputId": "1c557ea9-6932-49ad-bd2a-c853cb9b3b5a"
   },
   "outputs": [
    {
     "data": {
      "text/plain": [
       "{18: 'claire-dunphy',\n",
       " 17: 'phil-dunphy',\n",
       " 13: 'gloria-pritchett',\n",
       " 12: 'cameron-tucker',\n",
       " 10: 'stella'}"
      ]
     },
     "execution_count": 9,
     "metadata": {},
     "output_type": "execute_result"
    }
   ],
   "source": [
    "Phew_finally=dict(zip(indices,characters))\n",
    "Phew_finally"
   ]
  },
  {
   "cell_type": "markdown",
   "metadata": {
    "id": "4immtDulUI55"
   },
   "source": [
    "# **Task 1.2**"
   ]
  },
  {
   "cell_type": "code",
   "execution_count": null,
   "metadata": {
    "id": "hrJKs6UCUNM8"
   },
   "outputs": [],
   "source": [
    "creepy_doll = ['red_light', 'green_light', 'red_light', 'you_got_shot', 'green_light', 'you_got_shot',\n",
    "'you_got_shot', 'green_light', 'you_ got_shot', 'red_light', 'green_light', 'red_light', 'you_got_shot',\n",
    "'green_light','red_light', 'red_light', 'green_light', 'you_got_shot','red_light', 'you_got_shot']"
   ]
  },
  {
   "cell_type": "code",
   "execution_count": null,
   "metadata": {
    "colab": {
     "base_uri": "https://localhost:8080/"
    },
    "id": "0T4LCLefUR92",
    "outputId": "46b25672-af80-4d44-a407-c7ee3c5e2092"
   },
   "outputs": [
    {
     "data": {
      "text/plain": [
       "['green_light',\n",
       " 'green_light',\n",
       " 'green_light',\n",
       " 'green_light',\n",
       " 'green_light',\n",
       " 'green_light']"
      ]
     },
     "execution_count": 134,
     "metadata": {},
     "output_type": "execute_result"
    }
   ],
   "source": [
    "next_game=creepy_doll[1:17:3]\n",
    "next_game"
   ]
  },
  {
   "cell_type": "markdown",
   "metadata": {
    "id": "FhbadG5mV-Ar"
   },
   "source": [
    "# **Task 1.3**"
   ]
  },
  {
   "cell_type": "code",
   "execution_count": null,
   "metadata": {
    "colab": {
     "base_uri": "https://localhost:8080/"
    },
    "id": "VM9vBwjVWB5i",
    "outputId": "7f5da78d-b4fa-4093-8c81-cc3583334aff"
   },
   "outputs": [
    {
     "name": "stdout",
     "output_type": "stream",
     "text": [
      "Titan cant fight itself\n"
     ]
    }
   ],
   "source": [
    "class Titandex:\n",
    "  def __init__(self,name,height,strength,ws=0):\n",
    "    self.name=name\n",
    "    self.height=height\n",
    "    self.strength=strength\n",
    "    self.ws=ws\n",
    "  def TitanvsScout(self,nameScout,strengthScout):\n",
    "    if(self.strength>strengthScout):\n",
    "      print(self.name+\" wins\")\n",
    "      self.ws+=1\n",
    "    elif(self.strength==strengthScout):\n",
    "      print(\"Its a Draw\")\n",
    "    else:\n",
    "      print(nameScout+\" wins!!!!\")\n",
    "  def TitanvsTitan(t1,t2):\n",
    "    if(t1.name == t2.name):\n",
    "      print(\"Titan cant fight itself\")\n",
    "    else:\n",
    "      if(t1.strength>t2.strength):\n",
    "        print(t1.name+\" wins\")\n",
    "        t1.ws+=1\n",
    "      elif(t1.strength<t2.strength):\n",
    "        print(t2.name+\" wins\")\n",
    "        t2.ws+=1\n",
    "      else:\n",
    "        print(\"Its a draw\")\n",
    "\n",
    "t1=Titandex(\"Founding Titan\",13,350)\n",
    "t2=Titandex(\"Attack Titan \",15,275)\n",
    "t3=Titandex(\"Armored Titan\",15,250)\n",
    "t4=Titandex(\"Colossal Titan \",60,300)\n",
    "t5=Titandex(\"War Hammer Titan\",15,235)\n",
    "t6=Titandex(\"Beast Titan\",17,250)\n",
    "t7=Titandex(\"Cart Titan\",4,175)\n",
    "t8=Titandex(\"Female Titan\",14,270)\n",
    "t9=Titandex(\"Jaw Titan \",5,225)\n",
    "\n",
    "t8.TitanvsTitan(t8)\n",
    "\n"
   ]
  }
 ],
 "metadata": {
  "colab": {
   "collapsed_sections": [],
   "provenance": []
  },
  "kernelspec": {
   "display_name": "Python 3 (ipykernel)",
   "language": "python",
   "name": "python3"
  },
  "language_info": {
   "codemirror_mode": {
    "name": "ipython",
    "version": 3
   },
   "file_extension": ".py",
   "mimetype": "text/x-python",
   "name": "python",
   "nbconvert_exporter": "python",
   "pygments_lexer": "ipython3",
   "version": "3.9.12"
  },
  "vscode": {
   "interpreter": {
    "hash": "6c0e6bc32eb14b04e2dbbf34767db9ce3b762e976e88e30d2e1f55932c36244c"
   }
  }
 },
 "nbformat": 4,
 "nbformat_minor": 1
}
